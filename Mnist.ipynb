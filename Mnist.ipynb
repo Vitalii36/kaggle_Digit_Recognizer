{
  "nbformat": 4,
  "nbformat_minor": 0,
  "metadata": {
    "colab": {
      "name": "Mnist_batchnorm.ipynb",
      "provenance": [],
      "collapsed_sections": []
    },
    "kernelspec": {
      "name": "python3",
      "display_name": "Python 3"
    },
    "accelerator": "GPU"
  },
  "cells": [
    {
      "cell_type": "code",
      "metadata": {
        "id": "_2112Jrm3xF8",
        "colab_type": "code",
        "colab": {}
      },
      "source": [
        "import torch\n",
        "import random\n",
        "import numpy as np\n",
        "import pandas as pd\n",
        "\n",
        "random.seed(0)\n",
        "np.random.seed(0)\n",
        "torch.manual_seed(0)\n",
        "torch.cuda.manual_seed(0)\n",
        "torch.backends.cudnn.deterministic = True"
      ],
      "execution_count": 1,
      "outputs": []
    },
    {
      "cell_type": "markdown",
      "metadata": {
        "id": "dwt3fsNcyTgo",
        "colab_type": "text"
      },
      "source": [
        "Load Data from standart dataset"
      ]
    },
    {
      "cell_type": "code",
      "metadata": {
        "id": "BXBHFv_tT_8R",
        "colab_type": "code",
        "colab": {}
      },
      "source": [
        "import torchvision.datasets\n",
        "\n",
        "MNIST_train = torchvision.datasets.MNIST('./', download=True, train=True)\n",
        "MNIST_test = torchvision.datasets.MNIST('./', download=True, train=False)"
      ],
      "execution_count": 2,
      "outputs": []
    },
    {
      "cell_type": "markdown",
      "metadata": {
        "id": "lc1yRsFVBW5u",
        "colab_type": "text"
      },
      "source": [
        "Load Data for validation"
      ]
    },
    {
      "cell_type": "code",
      "metadata": {
        "id": "8vRGhT2d0QZc",
        "colab_type": "code",
        "colab": {}
      },
      "source": [
        "MNIST_val = np.array(pd.read_csv('/content/test.csv'))\n",
        "X_val = torch.from_numpy(MNIST_val.reshape(28000, 28, 28))"
      ],
      "execution_count": 3,
      "outputs": []
    },
    {
      "cell_type": "code",
      "metadata": {
        "id": "OJ2fCCdz325s",
        "colab_type": "code",
        "colab": {
          "base_uri": "https://localhost:8080/",
          "height": 153
        },
        "outputId": "55dc4d6a-6bb8-4fe7-b21a-590925be3537"
      },
      "source": [
        "X_train = MNIST_train.train_data\n",
        "y_train = MNIST_train.train_labels\n",
        "X_test = MNIST_test.test_data\n",
        "y_test = MNIST_test.test_labels"
      ],
      "execution_count": 4,
      "outputs": [
        {
          "output_type": "stream",
          "text": [
            "/usr/local/lib/python3.6/dist-packages/torchvision/datasets/mnist.py:55: UserWarning: train_data has been renamed data\n",
            "  warnings.warn(\"train_data has been renamed data\")\n",
            "/usr/local/lib/python3.6/dist-packages/torchvision/datasets/mnist.py:45: UserWarning: train_labels has been renamed targets\n",
            "  warnings.warn(\"train_labels has been renamed targets\")\n",
            "/usr/local/lib/python3.6/dist-packages/torchvision/datasets/mnist.py:60: UserWarning: test_data has been renamed data\n",
            "  warnings.warn(\"test_data has been renamed data\")\n",
            "/usr/local/lib/python3.6/dist-packages/torchvision/datasets/mnist.py:50: UserWarning: test_labels has been renamed targets\n",
            "  warnings.warn(\"test_labels has been renamed targets\")\n"
          ],
          "name": "stderr"
        }
      ]
    },
    {
      "cell_type": "code",
      "metadata": {
        "id": "uGkDy3UyePNT",
        "colab_type": "code",
        "colab": {
          "base_uri": "https://localhost:8080/",
          "height": 34
        },
        "outputId": "6c2a8580-cbd2-4b2c-e362-04ce70a51b07"
      },
      "source": [
        "\n",
        "len(y_train), len(y_test)"
      ],
      "execution_count": 5,
      "outputs": [
        {
          "output_type": "execute_result",
          "data": {
            "text/plain": [
              "(60000, 10000)"
            ]
          },
          "metadata": {
            "tags": []
          },
          "execution_count": 5
        }
      ]
    },
    {
      "cell_type": "code",
      "metadata": {
        "id": "Wjg6NlM-yfSa",
        "colab_type": "code",
        "colab": {
          "base_uri": "https://localhost:8080/",
          "height": 34
        },
        "outputId": "e3da1048-c65b-4bbc-a294-6fc85868bc48"
      },
      "source": [
        "X_test.size()"
      ],
      "execution_count": 6,
      "outputs": [
        {
          "output_type": "execute_result",
          "data": {
            "text/plain": [
              "torch.Size([10000, 28, 28])"
            ]
          },
          "metadata": {
            "tags": []
          },
          "execution_count": 6
        }
      ]
    },
    {
      "cell_type": "code",
      "metadata": {
        "id": "B0QFXHir1ttk",
        "colab_type": "code",
        "colab": {
          "base_uri": "https://localhost:8080/",
          "height": 34
        },
        "outputId": "f6468563-d03a-4d73-bac8-ec26133e9b9d"
      },
      "source": [
        "X_train.size()"
      ],
      "execution_count": 7,
      "outputs": [
        {
          "output_type": "execute_result",
          "data": {
            "text/plain": [
              "torch.Size([60000, 28, 28])"
            ]
          },
          "metadata": {
            "tags": []
          },
          "execution_count": 7
        }
      ]
    },
    {
      "cell_type": "code",
      "metadata": {
        "id": "PtQWKdgr4PYq",
        "colab_type": "code",
        "colab": {
          "base_uri": "https://localhost:8080/",
          "height": 34
        },
        "outputId": "ad062901-731e-45e0-fcd6-686501d9c280"
      },
      "source": [
        "X_val.size()"
      ],
      "execution_count": 8,
      "outputs": [
        {
          "output_type": "execute_result",
          "data": {
            "text/plain": [
              "torch.Size([28000, 28, 28])"
            ]
          },
          "metadata": {
            "tags": []
          },
          "execution_count": 8
        }
      ]
    },
    {
      "cell_type": "code",
      "metadata": {
        "id": "_SAXlRjgeW0e",
        "colab_type": "code",
        "colab": {
          "base_uri": "https://localhost:8080/",
          "height": 282
        },
        "outputId": "cb458856-bd4f-4d53-9480-7616534dd092"
      },
      "source": [
        "import matplotlib.pyplot as plt\n",
        "plt.imshow(X_test[0, :, :])\n",
        "plt.show()\n",
        "print(y_train[0])"
      ],
      "execution_count": 9,
      "outputs": [
        {
          "output_type": "display_data",
          "data": {
            "image/png": "[encoded data removed]",
            "text/plain": [
              "<Figure size 432x288 with 1 Axes>"
            ]
          },
          "metadata": {
            "tags": [],
            "needs_background": "light"
          }
        },
        {
          "output_type": "stream",
          "text": [
            "tensor(5)\n"
          ],
          "name": "stdout"
        }
      ]
    },
    {
      "cell_type": "code",
      "metadata": {
        "id": "D8KUxWJmeW_c",
        "colab_type": "code",
        "colab": {}
      },
      "source": [
        "X_train = X_train.unsqueeze(1).float()\n",
        "X_test = X_test.unsqueeze(1).float()\n",
        "X_val = X_val.unsqueeze(1).float()"
      ],
      "execution_count": 10,
      "outputs": []
    },
    {
      "cell_type": "code",
      "metadata": {
        "id": "yQrlKXireXDy",
        "colab_type": "code",
        "colab": {
          "base_uri": "https://localhost:8080/",
          "height": 34
        },
        "outputId": "29254a42-45c2-47ae-cd72-d4bbb631efb4"
      },
      "source": [
        "X_train.shape"
      ],
      "execution_count": 11,
      "outputs": [
        {
          "output_type": "execute_result",
          "data": {
            "text/plain": [
              "torch.Size([60000, 1, 28, 28])"
            ]
          },
          "metadata": {
            "tags": []
          },
          "execution_count": 11
        }
      ]
    },
    {
      "cell_type": "markdown",
      "metadata": {
        "id": "qD4AVs2FBf64",
        "colab_type": "text"
      },
      "source": [
        "Model LeNet5"
      ]
    },
    {
      "cell_type": "code",
      "metadata": {
        "id": "-KG_N6hueXJA",
        "colab_type": "code",
        "colab": {}
      },
      "source": [
        "class LeNet5(torch.nn.Module):\n",
        "    def __init__(self,\n",
        "                 activation='tanh',\n",
        "                 pooling='avg',\n",
        "                 conv_size=5,\n",
        "                 use_batch_norm=False):\n",
        "        super(LeNet5, self).__init__()\n",
        "        \n",
        "        self.conv_size = conv_size\n",
        "        self.use_batch_norm = use_batch_norm\n",
        "        \n",
        "        if activation == 'tanh':\n",
        "            activation_function = torch.nn.Tanh()\n",
        "        elif activation == 'relu':\n",
        "            activation_function  = torch.nn.ReLU()\n",
        "        else:\n",
        "            raise NotImplementedError\n",
        "            \n",
        "        if pooling == 'avg':\n",
        "            pooling_layer = torch.nn.AvgPool2d(kernel_size=2, stride=2)\n",
        "        elif pooling == 'max':\n",
        "            pooling_layer  = torch.nn.MaxPool2d(kernel_size=2, stride=2)\n",
        "        else:\n",
        "            raise NotImplementedError\n",
        "        \n",
        "        if conv_size == 5:\n",
        "            self.conv1 = torch.nn.Conv2d(\n",
        "                in_channels=1, out_channels=6, kernel_size=5, padding=2)\n",
        "        elif conv_size == 3:\n",
        "            self.conv1_1 = torch.nn.Conv2d(\n",
        "                in_channels=1, out_channels=6, kernel_size=3, padding=1)\n",
        "            self.conv1_2 = torch.nn.Conv2d(\n",
        "                in_channels=6, out_channels=6, kernel_size=3, padding=1)\n",
        "        else:\n",
        "            raise NotImplementedError\n",
        "\n",
        "        self.act1 = activation_function\n",
        "        self.bn1 = torch.nn.BatchNorm2d(num_features=6)\n",
        "        self.pool1 = pooling_layer\n",
        "       \n",
        "        if conv_size == 5:\n",
        "            self.conv2 = self.conv2 = torch.nn.Conv2d(\n",
        "                in_channels=6, out_channels=16, kernel_size=5, padding=0)\n",
        "        elif conv_size == 3:\n",
        "            self.conv2_1 = torch.nn.Conv2d(\n",
        "                in_channels=6, out_channels=16, kernel_size=3, padding=0)\n",
        "            self.conv2_2 = torch.nn.Conv2d(\n",
        "                in_channels=16, out_channels=16, kernel_size=3, padding=0)\n",
        "        else:\n",
        "            raise NotImplementedError\n",
        "\n",
        "        self.act2 = activation_function\n",
        "        self.bn2 = torch.nn.BatchNorm2d(num_features=16)\n",
        "        self.pool2 = pooling_layer\n",
        "        \n",
        "        self.fc1 = torch.nn.Linear(5 * 5 * 16, 120)\n",
        "        self.act3 = activation_function\n",
        "    \n",
        "        self.fc2 = torch.nn.Linear(120, 84)\n",
        "        self.act4 = activation_function\n",
        "        \n",
        "        self.fc3 = torch.nn.Linear(84, 10)\n",
        "    \n",
        "    def forward(self, x):\n",
        "        if self.conv_size == 5:\n",
        "            x = self.conv1(x)\n",
        "        elif self.conv_size == 3:\n",
        "            x = self.conv1_2(self.conv1_1(x))\n",
        "        x = self.act1(x)\n",
        "        if self.use_batch_norm:\n",
        "            x = self.bn1(x)\n",
        "        x = self.pool1(x)\n",
        "        \n",
        "        if self.conv_size == 5:\n",
        "            x = self.conv2(x)\n",
        "        elif self.conv_size == 3:\n",
        "            x = self.conv2_2(self.conv2_1(x))\n",
        "        x = self.act2(x)\n",
        "        if self.use_batch_norm:\n",
        "            x = self.bn2(x)\n",
        "        x = self.pool2(x)\n",
        "        \n",
        "        x = x.view(x.size(0), x.size(1) * x.size(2) * x.size(3))\n",
        "        x = self.fc1(x)\n",
        "        x = self.act3(x)\n",
        "        x = self.fc2(x)\n",
        "        x = self.act4(x)\n",
        "        x = self.fc3(x)\n",
        "        \n",
        "        return x"
      ],
      "execution_count": 12,
      "outputs": []
    },
    {
      "cell_type": "code",
      "metadata": {
        "id": "XB7nYe8QeXGw",
        "colab_type": "code",
        "colab": {}
      },
      "source": [
        "def train(net, X_train, y_train, X_test, y_test, X_val):\n",
        "    device = torch.device('cuda:0' if torch.cuda.is_available() else 'cpu')\n",
        "    net = net.to(device)\n",
        "    loss = torch.nn.CrossEntropyLoss()\n",
        "    optimizer = torch.optim.Adam(net.parameters(), lr=1.0e-3)\n",
        "    \n",
        "    batch_size = 100\n",
        "\n",
        "    test_accuracy_history = []\n",
        "    test_loss_history = []\n",
        "\n",
        "    X_test = X_test.to(device)\n",
        "    y_test = y_test.to(device)\n",
        "    X_val = X_val.to(device)\n",
        "\n",
        "    for epoch in range(9):\n",
        "        order = np.random.permutation(len(X_train))\n",
        "        for start_index in range(0, len(X_train), batch_size):\n",
        "            optimizer.zero_grad()\n",
        "            net.train()\n",
        "\n",
        "            batch_indexes = order[start_index:start_index+batch_size]\n",
        "\n",
        "            X_batch = X_train[batch_indexes].to(device)\n",
        "            y_batch = y_train[batch_indexes].to(device)\n",
        "\n",
        "            preds = net.forward(X_batch) \n",
        "\n",
        "            loss_value = loss(preds, y_batch)\n",
        "            loss_value.backward()\n",
        "\n",
        "            optimizer.step()\n",
        "\n",
        "        net.eval()\n",
        "        test_preds = net.forward(X_test)\n",
        "        test_loss_history.append(loss(test_preds, y_test).data.cpu())\n",
        "\n",
        "        accuracy = (test_preds.argmax(dim=1) == y_test).float().mean().data.cpu()\n",
        "        test_accuracy_history.append(accuracy)\n",
        "\n",
        "        val_preds = net.forward(X_val)\n",
        "\n",
        "        print(accuracy)\n",
        "    print('---------------')\n",
        "    return test_accuracy_history, test_loss_history, val_preds"
      ],
      "execution_count": 13,
      "outputs": []
    },
    {
      "cell_type": "code",
      "metadata": {
        "id": "tMNlB5AqeonW",
        "colab_type": "code",
        "colab": {
          "base_uri": "https://localhost:8080/",
          "height": 187
        },
        "outputId": "f02614e8-1437-4c73-87ea-fd62a352c9f0"
      },
      "source": [
        "accuracies = {}\n",
        "losses = {}\n",
        "\n",
        "accuracies['relu'], losses['relu'], prediction = \\\n",
        "    train(LeNet5(activation='relu', conv_size=5),\n",
        "          X_train, y_train, X_test, y_test, X_val)"
      ],
      "execution_count": 14,
      "outputs": [
        {
          "output_type": "stream",
          "text": [
            "tensor(0.9800)\n",
            "tensor(0.9888)\n",
            "tensor(0.9894)\n",
            "tensor(0.9856)\n",
            "tensor(0.9889)\n",
            "tensor(0.9885)\n",
            "tensor(0.9877)\n",
            "tensor(0.9905)\n",
            "tensor(0.9880)\n",
            "---------------\n"
          ],
          "name": "stdout"
        }
      ]
    },
    {
      "cell_type": "code",
      "metadata": {
        "id": "zONjrbhnes0x",
        "colab_type": "code",
        "colab": {
          "base_uri": "https://localhost:8080/",
          "height": 281
        },
        "outputId": "eaa8c6f0-da27-4795-f1e8-452d000cf2af"
      },
      "source": [
        "for experiment_id in accuracies.keys():\n",
        "    plt.plot(accuracies[experiment_id], label=experiment_id)\n",
        "plt.legend()\n",
        "plt.title('Validation Accuracy');"
      ],
      "execution_count": 15,
      "outputs": [
        {
          "output_type": "display_data",
          "data": {
            "image/png": "[encoded data removed]",
            "text/plain": [
              "<Figure size 432x288 with 1 Axes>"
            ]
          },
          "metadata": {
            "tags": [],
            "needs_background": "light"
          }
        }
      ]
    },
    {
      "cell_type": "code",
      "metadata": {
        "id": "lZd4h3fneurR",
        "colab_type": "code",
        "colab": {
          "base_uri": "https://localhost:8080/",
          "height": 281
        },
        "outputId": "72b5bd1e-49ff-4f49-d825-36deede9fb26"
      },
      "source": [
        "for experiment_id in losses.keys():\n",
        "    plt.plot(losses[experiment_id], label=experiment_id)\n",
        "plt.legend()\n",
        "plt.title('Validation Loss');"
      ],
      "execution_count": 16,
      "outputs": [
        {
          "output_type": "display_data",
          "data": {
            "image/png": "[encoded data removed]",
            "text/plain": [
              "<Figure size 432x288 with 1 Axes>"
            ]
          },
          "metadata": {
            "tags": [],
            "needs_background": "light"
          }
        }
      ]
    },
    {
      "cell_type": "markdown",
      "metadata": {
        "id": "NGBH-5egByER",
        "colab_type": "text"
      },
      "source": [
        "Take prediction and write to the submission file"
      ]
    },
    {
      "cell_type": "code",
      "metadata": {
        "id": "5Vh_YI8w9C0v",
        "colab_type": "code",
        "colab": {
          "base_uri": "https://localhost:8080/",
          "height": 238
        },
        "outputId": "5d82d953-5d1c-4dbe-a0ce-d3941b8cce32"
      },
      "source": [
        "pred = prediction.to(torch.device('cpu'))\n",
        "pred = pred.detach().numpy()"
      ],
      "execution_count": 20,
      "outputs": [
        {
          "output_type": "execute_result",
          "data": {
            "text/plain": [
              "array([[ -7.167673  ,  -2.8017485 ,  21.841541  , ...,   0.33252907,\n",
              "         -2.4902732 ,  -3.1841543 ],\n",
              "       [ 13.167944  ,  -7.266222  ,  -3.2694306 , ...,  -5.01362   ,\n",
              "          1.1947684 ,  -2.921751  ],\n",
              "       [ -8.311657  ,  -3.1161666 ,   0.6394174 , ...,  -0.62458014,\n",
              "         -0.58779866,  14.326706  ],\n",
              "       ...,\n",
              "       [-12.541051  ,  -2.6961167 ,  -5.3898754 , ...,   0.8321683 ,\n",
              "          2.358655  ,   0.8217121 ],\n",
              "       [ -7.3821335 ,  -2.3437572 ,  -0.4345465 , ...,  -0.9104263 ,\n",
              "         -2.5008376 ,  14.327222  ],\n",
              "       [ -6.918433  ,  -3.1990893 ,  23.760994  , ...,  -1.0852196 ,\n",
              "         -2.066646  ,  -3.2209265 ]], dtype=float32)"
            ]
          },
          "metadata": {
            "tags": []
          },
          "execution_count": 20
        }
      ]
    },
    {
      "cell_type": "code",
      "metadata": {
        "id": "wv4PfV5a_sIm",
        "colab_type": "code",
        "colab": {}
      },
      "source": [
        "subm = pd.read_csv('/content/sample_submission.csv', index_col='ImageId')"
      ],
      "execution_count": 29,
      "outputs": []
    },
    {
      "cell_type": "code",
      "metadata": {
        "id": "wOHd6V_5_YpH",
        "colab_type": "code",
        "colab": {
          "base_uri": "https://localhost:8080/",
          "height": 450
        },
        "outputId": "24765099-e369-4a7d-a7a8-b52c522a439d"
      },
      "source": [
        "subm['Label'] = np.argmax(pred, axis = 1)\n",
        "subm"
      ],
      "execution_count": 30,
      "outputs": [
        {
          "output_type": "execute_result",
          "data": {
            "text/html": [
              "<div>\n",
              "<style scoped>\n",
              "    .dataframe tbody tr th:only-of-type {\n",
              "        vertical-align: middle;\n",
              "    }\n",
              "\n",
              "    .dataframe tbody tr th {\n",
              "        vertical-align: top;\n",
              "    }\n",
              "\n",
              "    .dataframe thead th {\n",
              "        text-align: right;\n",
              "    }\n",
              "</style>\n",
              "<table border=\"1\" class=\"dataframe\">\n",
              "  <thead>\n",
              "    <tr style=\"text-align: right;\">\n",
              "      <th></th>\n",
              "      <th>Label</th>\n",
              "    </tr>\n",
              "    <tr>\n",
              "      <th>ImageId</th>\n",
              "      <th></th>\n",
              "    </tr>\n",
              "  </thead>\n",
              "  <tbody>\n",
              "    <tr>\n",
              "      <th>1</th>\n",
              "      <td>2</td>\n",
              "    </tr>\n",
              "    <tr>\n",
              "      <th>2</th>\n",
              "      <td>0</td>\n",
              "    </tr>\n",
              "    <tr>\n",
              "      <th>3</th>\n",
              "      <td>9</td>\n",
              "    </tr>\n",
              "    <tr>\n",
              "      <th>4</th>\n",
              "      <td>0</td>\n",
              "    </tr>\n",
              "    <tr>\n",
              "      <th>5</th>\n",
              "      <td>3</td>\n",
              "    </tr>\n",
              "    <tr>\n",
              "      <th>...</th>\n",
              "      <td>...</td>\n",
              "    </tr>\n",
              "    <tr>\n",
              "      <th>27996</th>\n",
              "      <td>9</td>\n",
              "    </tr>\n",
              "    <tr>\n",
              "      <th>27997</th>\n",
              "      <td>7</td>\n",
              "    </tr>\n",
              "    <tr>\n",
              "      <th>27998</th>\n",
              "      <td>3</td>\n",
              "    </tr>\n",
              "    <tr>\n",
              "      <th>27999</th>\n",
              "      <td>9</td>\n",
              "    </tr>\n",
              "    <tr>\n",
              "      <th>28000</th>\n",
              "      <td>2</td>\n",
              "    </tr>\n",
              "  </tbody>\n",
              "</table>\n",
              "<p>28000 rows × 1 columns</p>\n",
              "</div>"
            ],
            "text/plain": [
              "         Label\n",
              "ImageId       \n",
              "1            2\n",
              "2            0\n",
              "3            9\n",
              "4            0\n",
              "5            3\n",
              "...        ...\n",
              "27996        9\n",
              "27997        7\n",
              "27998        3\n",
              "27999        9\n",
              "28000        2\n",
              "\n",
              "[28000 rows x 1 columns]"
            ]
          },
          "metadata": {
            "tags": []
          },
          "execution_count": 30
        }
      ]
    },
    {
      "cell_type": "code",
      "metadata": {
        "id": "2Do6r3QBAYxj",
        "colab_type": "code",
        "colab": {}
      },
      "source": [
        "subm.to_csv('prediction.csv')"
      ],
      "execution_count": 31,
      "outputs": []
    },
    {
      "cell_type": "markdown",
      "metadata": {
        "id": "mewrJ-3_CEgu",
        "colab_type": "text"
      },
      "source": [
        "Score 0.99442"
      ]
    }
  ]
}